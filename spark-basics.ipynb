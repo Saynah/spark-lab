{
 "cells": [
  {
   "cell_type": "code",
   "execution_count": 1,
   "metadata": {
    "collapsed": false
   },
   "outputs": [
    {
     "name": "stdout",
     "output_type": "stream",
     "text": [
      "Populating the interactive namespace from numpy and matplotlib\n"
     ]
    }
   ],
   "source": [
    "%pylab inline"
   ]
  },
  {
   "cell_type": "code",
   "execution_count": 4,
   "metadata": {
    "collapsed": false
   },
   "outputs": [],
   "source": [
    "# Read in the ratings file (fromUserId, toUserId, rating).  These ratings are 0-9.\n",
    "ratings_raw = sc.textFile(\"s3n://insight-spark-after-dark/gender.csv.gz\")"
   ]
  },
  {
   "cell_type": "code",
   "execution_count": 5,
   "metadata": {
    "collapsed": false
   },
   "outputs": [
    {
     "data": {
      "text/plain": [
       "220970"
      ]
     },
     "execution_count": 5,
     "metadata": {},
     "output_type": "execute_result"
    }
   ],
   "source": [
    "ratings_raw.count()"
   ]
  },
  {
   "cell_type": "code",
   "execution_count": 6,
   "metadata": {
    "collapsed": false
   },
   "outputs": [
    {
     "data": {
      "text/plain": [
       "[(u'F', 1), (u'F', 2), (u'U', 3), (u'F', 4), (u'F', 5)]"
      ]
     },
     "execution_count": 6,
     "metadata": {},
     "output_type": "execute_result"
    }
   ],
   "source": [
    "# Task 1: Parse each record so that we have a tuple of (gender(string), id(int)) and show \n",
    "# the first 5 results\n",
    "split_rdd = ratings_raw.map(lambda r: r.split(','))\n",
    "parsed_rdd = split_rdd.map(lambda r: (r[1], int(r[0])))\n",
    "parsed_rdd.take(5)"
   ]
  },
  {
   "cell_type": "code",
   "execution_count": 10,
   "metadata": {
    "collapsed": false
   },
   "outputs": [
    {
     "name": "stdout",
     "output_type": "stream",
     "text": [
      "['U', 'M', 'F']\n",
      "[83164, 76441, 61365]\n"
     ]
    },
    {
     "data": {
      "image/png": "[encoded data removed]",
      "text/plain": [
       "<matplotlib.figure.Figure at 0x7fe88119a750>"
      ]
     },
     "metadata": {},
     "output_type": "display_data"
    }
   ],
   "source": [
    "# Task 2: Calculate the distribution of Males, Females, and Unknowns and show the results\n",
    "tagged_rdd = parsed_rdd.map(lambda r: (r[0], 1))\n",
    "distribution = tagged_rdd.reduceByKey(lambda x,y: x+y)\n",
    "distr = distribution.collect()\n",
    "gender = [str(val[0]) for val in distr]\n",
    "idx = range(3)\n",
    "count = [val[1] for val in distr]\n",
    "bar(idx, count, log=1)\n",
    "plt.xlabel('Gender')\n",
    "plt.ylabel('Count')\n",
    "plt.xticks\n",
    "\n",
    "print gender\n",
    "print count"
   ]
  },
  {
   "cell_type": "code",
   "execution_count": 24,
   "metadata": {
    "collapsed": false
   },
   "outputs": [
    {
     "data": {
      "text/plain": [
       "[(u'U', 13105654827), (u'M', 6982853010), (u'F', 4325473098)]"
      ]
     },
     "execution_count": 24,
     "metadata": {},
     "output_type": "execute_result"
    }
   ],
   "source": [
    "# Task 3: Calculate the sum of all the IDs for each gender\n",
    "id_sum_rdd = parsed_rdd.reduceByKey(lambda x,y: x+y)\n",
    "id_sum_rdd.collect()"
   ]
  },
  {
   "cell_type": "code",
   "execution_count": 26,
   "metadata": {
    "collapsed": false
   },
   "outputs": [
    {
     "data": {
      "text/plain": [
       "[(u'U', 157588), (u'M', 91349), (u'F', 70487)]"
      ]
     },
     "execution_count": 26,
     "metadata": {},
     "output_type": "execute_result"
    }
   ],
   "source": [
    "# Task 4: Calculate the average of all the IDs for each gender\n",
    "sum_cnt_rdd = parsed_rdd.aggregateByKey((0,0),\n",
    "                                       lambda x,y: (x[0]+y, x[1]+1),\n",
    "                                       lambda x,y: (x[0]+y[0], x[0]+y[0]))\n",
    "avg_rdd = sum_cnt_rdd.mapValues(lambda r: r[0]/r[1])\n",
    "avg_rdd.collect()"
   ]
  },
  {
   "cell_type": "code",
   "execution_count": 32,
   "metadata": {
    "collapsed": false
   },
   "outputs": [
    {
     "data": {
      "text/plain": [
       "[(u'F', 5), (u'M', 10), (u'U', 15), (u'M', 20), (u'F', 25)]"
      ]
     },
     "execution_count": 32,
     "metadata": {},
     "output_type": "execute_result"
    }
   ],
   "source": [
    "# Task 5: Only return records from parsed_rdd which have ids that are a multiple of 5 and \n",
    "# show the first 5 results\n",
    "filtered_rdd = parsed_rdd.filter(lambda r: r[1]%5==0)\n",
    "filtered_rdd.take(5)"
   ]
  },
  {
   "cell_type": "code",
   "execution_count": null,
   "metadata": {
    "collapsed": true
   },
   "outputs": [],
   "source": []
  }
 ],
 "metadata": {
  "kernelspec": {
   "display_name": "Python 2",
   "language": "python",
   "name": "python2"
  },
  "language_info": {
   "codemirror_mode": {
    "name": "ipython",
    "version": 2
   },
   "file_extension": ".py",
   "mimetype": "text/x-python",
   "name": "python",
   "nbconvert_exporter": "python",
   "pygments_lexer": "ipython2",
   "version": "2.7.6"
  }
 },
 "nbformat": 4,
 "nbformat_minor": 0
}
