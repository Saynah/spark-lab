{
 "cells": [
  {
   "cell_type": "code",
   "execution_count": 11,
   "metadata": {
    "collapsed": false
   },
   "outputs": [],
   "source": [
    "# Read in the ratings file (fromUserId, toUserId, rating).  These ratings are 0-9.\n",
    "ratings_raw = sc.textFile(\"s3n://insight-spark-after-dark/gender.csv.gz\")"
   ]
  },
  {
   "cell_type": "code",
   "execution_count": 12,
   "metadata": {
    "collapsed": false
   },
   "outputs": [
    {
     "data": {
      "text/plain": [
       "220970"
      ]
     },
     "execution_count": 12,
     "metadata": {},
     "output_type": "execute_result"
    }
   ],
   "source": [
    "ratings_raw.count()"
   ]
  },
  {
   "cell_type": "code",
   "execution_count": 23,
   "metadata": {
    "collapsed": false
   },
   "outputs": [
    {
     "data": {
      "text/plain": [
       "[(u'F', 1), (u'F', 2), (u'U', 3), (u'F', 4), (u'F', 5)]"
      ]
     },
     "execution_count": 23,
     "metadata": {},
     "output_type": "execute_result"
    }
   ],
   "source": [
    "# Task 1: Parse each record so that we have a tuple of (gender(string), id(int)) and show \n",
    "# the first 5 results\n",
    "split_rdd = ratings_raw.map(lambda r: r.split(','))\n",
    "parsed_rdd = split_rdd.map(lambda r: (r[1], int(r[0])))\n",
    "parsed_rdd.take(5)"
   ]
  },
  {
   "cell_type": "code",
   "execution_count": 19,
   "metadata": {
    "collapsed": false
   },
   "outputs": [
    {
     "data": {
      "text/plain": [
       "[(u'U', 83164), (u'M', 76441), (u'F', 61365)]"
      ]
     },
     "execution_count": 19,
     "metadata": {},
     "output_type": "execute_result"
    }
   ],
   "source": [
    "# Task 2: Calculate the distribution of Males, Females, and Unknowns and show the results\n",
    "tagged_rdd = parsed_rdd.map(lambda r: (r[0], 1))\n",
    "distribution = tagged_rdd.reduceByKey(lambda x,y: x+y)\n",
    "distribution.collect()"
   ]
  },
  {
   "cell_type": "code",
   "execution_count": 24,
   "metadata": {
    "collapsed": false
   },
   "outputs": [
    {
     "data": {
      "text/plain": [
       "[(u'U', 13105654827), (u'M', 6982853010), (u'F', 4325473098)]"
      ]
     },
     "execution_count": 24,
     "metadata": {},
     "output_type": "execute_result"
    }
   ],
   "source": [
    "# Task 3: Calculate the sum of all the IDs for each gender\n",
    "id_sum_rdd = parsed_rdd.reduceByKey(lambda x,y: x+y)\n",
    "id_sum_rdd.collect()"
   ]
  },
  {
   "cell_type": "code",
   "execution_count": 25,
   "metadata": {
    "collapsed": true
   },
   "outputs": [],
   "source": [
    "# Task 4: Calculate the average of all the IDs for each gender\n",
    "sum_cnt_rdd = parsed_rdd.aggregateByKey((0,0),\n",
    "                                       lambda x,y: (x[0]+y, x[1]+1),\n",
    "                                       lambda x,y: (x[0]+y[0], x[0]+y[0]))\n",
    "avg_rdd = sum_cnt_rdd.map(lambda r: r[0]/r[1])"
   ]
  },
  {
   "cell_type": "code",
   "execution_count": null,
   "metadata": {
    "collapsed": true
   },
   "outputs": [],
   "source": []
  }
 ],
 "metadata": {
  "kernelspec": {
   "display_name": "Python 2",
   "language": "python",
   "name": "python2"
  },
  "language_info": {
   "codemirror_mode": {
    "name": "ipython",
    "version": 2
   },
   "file_extension": ".py",
   "mimetype": "text/x-python",
   "name": "python",
   "nbconvert_exporter": "python",
   "pygments_lexer": "ipython2",
   "version": "2.7.6"
  }
 },
 "nbformat": 4,
 "nbformat_minor": 0
}
