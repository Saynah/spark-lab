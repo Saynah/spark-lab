{
 "cells": [
  {
   "cell_type": "code",
   "execution_count": 4,
   "metadata": {
    "collapsed": false
   },
   "outputs": [],
   "source": [
    "from pyspark.sql.types import *\n",
    "from pyspark.sql import Row"
   ]
  },
  {
   "cell_type": "markdown",
   "metadata": {},
   "source": [
    "# Introduction\n",
    "We are going to use the dating profiles dataset for this tutorial. More information on this dataset can be found [here](https://sites.google.com/a/insightdatascience.com/spark-lab/s3-data/dating-profiles)."
   ]
  },
  {
   "cell_type": "markdown",
   "metadata": {},
   "source": [
    "# Loading in the data\n",
    "First, read in the data into an RDD. Here, we are using 16 partitions for our RDD."
   ]
  },
  {
   "cell_type": "code",
   "execution_count": 1,
   "metadata": {
    "collapsed": true
   },
   "outputs": [],
   "source": [
    "# Read in raw ratings data (fromUserId, toUserId, rating)\n",
    "ratingsCsvRDD = sc.textFile(\"s3n://insight-spark-after-dark/ratings.csv.gz\").repartition(16)"
   ]
  },
  {
   "cell_type": "markdown",
   "metadata": {},
   "source": [
    "Reformat the data into a JSON format by applying the function rec_tup (which converts the data into a JSON format) to the RDD using the .map and .toDF() transformation steps."
   ]
  },
  {
   "cell_type": "code",
   "execution_count": 5,
   "metadata": {
    "collapsed": false
   },
   "outputs": [
    {
     "data": {
      "text/plain": [
       "[Row(fromUserId=1, rating=8, toUserId=2145),\n",
       " Row(fromUserId=1, rating=7, toUserId=11747),\n",
       " Row(fromUserId=1, rating=4, toUserId=18878),\n",
       " Row(fromUserId=1, rating=4, toUserId=23499),\n",
       " Row(fromUserId=1, rating=10, toUserId=35647)]"
      ]
     },
     "execution_count": 5,
     "metadata": {},
     "output_type": "execute_result"
    }
   ],
   "source": [
    "# Convert raw ratings RDD to Json RDD\n",
    "def rec_tup(rating):\n",
    "    tokens = rating.split(\",\")\n",
    "    return Row(fromUserId=int(tokens[0]), toUserId=int(tokens[1]), rating=int(tokens[2]))\n",
    "\n",
    "ratingsJson_DF = ratingsCsvRDD.map(rec_tup).toDF()\n",
    "ratingsJson_DF.take(5)"
   ]
  },
  {
   "cell_type": "markdown",
   "metadata": {},
   "source": [
    "As you might remember, Spark does a Lazy evaluation which means each transformed RDD may be recomputed each time you run an action on it. We'll use the .persist method (this is actually also a transformation) to keep the result (transformed RDD) on the cluster for quick future access.\n",
    "\n",
    "**Note**: persist is a transformation, it will only run when a future action is called. One result of this is that if you run an action twice, you will persist twice (and right now in Spark you will lose the pointer to the first persist)."
   ]
  },
  {
   "cell_type": "code",
   "execution_count": 6,
   "metadata": {
    "collapsed": false
   },
   "outputs": [
    {
     "data": {
      "text/plain": [
       "DataFrame[fromUserId: bigint, rating: bigint, toUserId: bigint]"
      ]
     },
     "execution_count": 6,
     "metadata": {},
     "output_type": "execute_result"
    }
   ],
   "source": [
    "# Cache the SchemaRDD as we'll be using this heavily moving forward\n",
    "ratingsJson_DF.persist(StorageLevel.MEMORY_AND_DISK_SER)"
   ]
  },
  {
   "cell_type": "markdown",
   "metadata": {},
   "source": [
    "Quickly check the schema of the dataframe. \n",
    "To write SparkSQL, we need to create a table object from our dataframe which we can use to run SparkSQL commands. The transformation registerTempTable() does this and we call our table 'ratingsJsonTable'."
   ]
  },
  {
   "cell_type": "code",
   "execution_count": 8,
   "metadata": {
    "collapsed": false
   },
   "outputs": [
    {
     "name": "stdout",
     "output_type": "stream",
     "text": [
      "root\n",
      " |-- fromUserId: long (nullable = true)\n",
      " |-- rating: long (nullable = true)\n",
      " |-- toUserId: long (nullable = true)\n",
      "\n"
     ]
    }
   ],
   "source": [
    "# Describe the SchemaRDD inferred from the JSON\n",
    "ratingsJson_DF.printSchema()\n",
    "\n",
    "ratingsJson_DF.registerTempTable(\"ratingsJsonTable\")"
   ]
  },
  {
   "cell_type": "markdown",
   "metadata": {},
   "source": [
    "# On to SparkSQL"
   ]
  },
  {
   "cell_type": "markdown",
   "metadata": {},
   "source": [
    "SparkSQL is an abstract API that lets you use regular SQL commands to query your Spark cluster.\n",
    "\n",
    "Now that we have created a table of our data we can call SQL commands. \n",
    "\n",
    "**Note:** .sql is a transformation and we need to call .collect() to execute the job."
   ]
  },
  {
   "cell_type": "code",
   "execution_count": 14,
   "metadata": {
    "collapsed": false
   },
   "outputs": [
    {
     "data": {
      "text/plain": [
       "[Row(col_name=u'fromUserId', data_type=u'bigint', comment=u''),\n",
       " Row(col_name=u'rating', data_type=u'bigint', comment=u''),\n",
       " Row(col_name=u'toUserId', data_type=u'bigint', comment=u'')]"
      ]
     },
     "execution_count": 14,
     "metadata": {},
     "output_type": "execute_result"
    }
   ],
   "source": [
    "# Details of a table\n",
    "sqlContext.sql(\"DESCRIBE ratingsJsonTable\").collect()"
   ]
  },
  {
   "cell_type": "code",
   "execution_count": 26,
   "metadata": {
    "collapsed": false
   },
   "outputs": [],
   "source": [
    "# Show the top 10 most-active users who are giving out ratings\n",
    "mostActiveUsersSchemaRDD = sqlContext.sql(\"\"\"\n",
    "    SELECT fromUserId, count(*) AS num_rated\n",
    "    FROM ratingsJsonTable \n",
    "    GROUP BY fromUserId\n",
    "    ORDER BY num_rated DESC\n",
    "    LIMIT 10\n",
    "    \"\"\")"
   ]
  },
  {
   "cell_type": "code",
   "execution_count": 27,
   "metadata": {
    "collapsed": false,
    "scrolled": true
   },
   "outputs": [
    {
     "data": {
      "text/plain": [
       "[Row(fromUserId=90280, num_rated=25042),\n",
       " Row(fromUserId=56792, num_rated=21599),\n",
       " Row(fromUserId=33639, num_rated=19908),\n",
       " Row(fromUserId=61436, num_rated=18810),\n",
       " Row(fromUserId=72351, num_rated=18443),\n",
       " Row(fromUserId=127227, num_rated=18342),\n",
       " Row(fromUserId=58765, num_rated=18197),\n",
       " Row(fromUserId=76082, num_rated=18019),\n",
       " Row(fromUserId=108318, num_rated=17755),\n",
       " Row(fromUserId=131976, num_rated=17560)]"
      ]
     },
     "execution_count": 27,
     "metadata": {},
     "output_type": "execute_result"
    }
   ],
   "source": [
    "mostActiveUsersSchemaRDD.collect()"
   ]
  },
  {
   "cell_type": "markdown",
   "metadata": {},
   "source": [
    "# Next Steps"
   ]
  },
  {
   "cell_type": "markdown",
   "metadata": {},
   "source": [
    "Here are some further questions to get to grips with SparkSQL."
   ]
  },
  {
   "cell_type": "markdown",
   "metadata": {},
   "source": [
    "### Task 1: Which user has the biggest variance in ratings of their profile? "
   ]
  },
  {
   "cell_type": "code",
   "execution_count": null,
   "metadata": {
    "collapsed": true
   },
   "outputs": [],
   "source": []
  },
  {
   "cell_type": "markdown",
   "metadata": {},
   "source": [
    "### Task 2: How many users have rated each other with a rating > 5?"
   ]
  },
  {
   "cell_type": "code",
   "execution_count": null,
   "metadata": {
    "collapsed": true
   },
   "outputs": [],
   "source": []
  }
 ],
 "metadata": {
  "kernelspec": {
   "display_name": "Python 2",
   "language": "python",
   "name": "python2"
  },
  "language_info": {
   "codemirror_mode": {
    "name": "ipython",
    "version": 2
   },
   "file_extension": ".py",
   "mimetype": "text/x-python",
   "name": "python",
   "nbconvert_exporter": "python",
   "pygments_lexer": "ipython2",
   "version": "2.7.6"
  }
 },
 "nbformat": 4,
 "nbformat_minor": 0
}
