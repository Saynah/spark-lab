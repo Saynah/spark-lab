{
 "cells": [
  {
   "cell_type": "code",
   "execution_count": 71,
   "metadata": {
    "collapsed": false
   },
   "outputs": [
    {
     "name": "stdout",
     "output_type": "stream",
     "text": [
      "Populating the interactive namespace from numpy and matplotlib\n"
     ]
    },
    {
     "name": "stderr",
     "output_type": "stream",
     "text": [
      "WARNING: pylab import has clobbered these variables: ['datetime', 'grid']\n",
      "`%matplotlib` prevents importing * from pylab and numpy\n"
     ]
    }
   ],
   "source": [
    "%pylab inline\n",
    "from pyspark.sql.types import *\n",
    "from datetime import datetime\n",
    "from pyspark.sql import Row, functions as F\n",
    "from pyspark.ml.feature import Tokenizer, HashingTF, Binarizer\n",
    "from pyspark.ml import Pipeline\n",
    "from pyspark.ml.classification import LogisticRegression\n",
    "from pyspark.ml.tuning import ParamGridBuilder\n",
    "from pyspark.ml.evaluation import BinaryClassificationEvaluator\n",
    "from pyspark.ml.tuning import CrossValidator"
   ]
  },
  {
   "cell_type": "markdown",
   "metadata": {},
   "source": [
    "# Introduction\n",
    "In this tutorial, we will use spark.ml to build an ML pipeline using the reddit comment dataset.\n",
    "\n",
    "We are going to build a model to classify reddit comments as positive or negative based on the content of each comment.\n",
    "\n"
   ]
  },
  {
   "cell_type": "markdown",
   "metadata": {},
   "source": [
    "## Read in the Reddit data\n",
    "#### Reading in this dataset takes approximately 17 minutes. A good time for a coffee."
   ]
  },
  {
   "cell_type": "code",
   "execution_count": 6,
   "metadata": {
    "collapsed": false
   },
   "outputs": [],
   "source": [
    "fields = [StructField(\"archived\", BooleanType(), True),\n",
    "        StructField(\"author\", StringType(), True),\n",
    "        StructField(\"author_flair_css_class\", StringType(), True),\n",
    "        StructField(\"body\", StringType(), True),\n",
    "        StructField(\"controversiality\", LongType(), True),\n",
    "        StructField(\"created_utc\", StringType(), True),\n",
    "        StructField(\"day\", LongType(), True),\n",
    "        StructField(\"distinguished\", StringType(), True),\n",
    "        StructField(\"downs\", LongType(), True),\n",
    "        StructField(\"edited\", StringType(), True),\n",
    "        StructField(\"gilded\", LongType(), True),\n",
    "        StructField(\"id\", StringType(), True),\n",
    "        StructField(\"link_id\", StringType(), True),\n",
    "        StructField(\"month\", LongType(), True),\n",
    "        StructField(\"name\", StringType(), True),\n",
    "        StructField(\"parent_id\", StringType(), True),\n",
    "        StructField(\"retrieved_on\", LongType(), True),\n",
    "        StructField(\"score\", LongType(), True),\n",
    "        StructField(\"score_hidden\", BooleanType(), True),\n",
    "        StructField(\"subreddit\", StringType(), True),\n",
    "        StructField(\"subreddit_id\", StringType(), True),\n",
    "        StructField(\"ups\", LongType(), True),\n",
    "        StructField(\"year\", LongType(), True)]\n",
    "rawDF = sqlContext.read.json(\"s3n://reddit-comments/2009\", StructType(fields)).persist(StorageLevel.MEMORY_AND_DISK_SER)"
   ]
  },
  {
   "cell_type": "markdown",
   "metadata": {},
   "source": [
    "## Selecting a subset of the data\n",
    "To keep the tutorial fast, we'll just use the reddit.com subreddit comments here. You could easily extend this to a general model for comments across all subreddits.\n",
    "\n",
    "We clean the data by removing deleted comments and comments that do not have a score. We also cast the columns into the correct datatype for Spark's Transformers.\n"
   ]
  },
  {
   "cell_type": "code",
   "execution_count": 10,
   "metadata": {
    "collapsed": false
   },
   "outputs": [
    {
     "data": {
      "text/plain": [
       "[Row(archived=True, author=u'glengyron', author_flair_css_class=None, body=u\"Iraq was so many magnitudes worse that it's hard to even fathom some of the hatred and bile spilled on reddit.\\n\\nTry the basic premise of action for starters: A story about WMD versus 70 or so rockets a day hitting suburbanites?\\n\\nWar is disgusting nasty business, but a bit of self reflection wouldn't go astray here, I agree.\", controversiality=0, created_utc=u'1231417849', day=None, distinguished=None, downs=0, edited=u'false', gilded=0, id=u'c06wio7', link_id=u't3_7o91k', month=None, name=u't1_c06wio7', parent_id=u't1_c06wii3', retrieved_on=1425910136, score=4, score_hidden=False, subreddit=u'Israel', subreddit_id=u't5_2qhvo', ups=4, year=None),\n",
       " Row(archived=True, author=u'BobGaffney', author_flair_css_class=None, body=u\"&gt;Parker's programs can also produce rudimentary poetry\\n\\nNo doubt as mind-altering as his books\", controversiality=0, created_utc=u'1231417871', day=None, distinguished=None, downs=0, edited=u'false', gilded=0, id=u'c06wio8', link_id=u't3_7o5in', month=None, name=u't1_c06wio8', parent_id=u't1_c06wb6t', retrieved_on=1425910136, score=1, score_hidden=False, subreddit=u'WTF', subreddit_id=u't5_2qh61', ups=1, year=None),\n",
       " Row(archived=True, author=u'permaculture', author_flair_css_class=None, body=u'&gt; Invalid parameters. \\n\\nThis works, though: \\n\\nhttp://uk.youtube.com/watch?v=ybVb3t560oY', controversiality=0, created_utc=u'1231417871', day=None, distinguished=None, downs=0, edited=u'false', gilded=0, id=u'c06wio9', link_id=u't3_7o8he', month=None, name=u't1_c06wio9', parent_id=u't3_7o8he', retrieved_on=1425910136, score=1, score_hidden=False, subreddit=u'funny', subreddit_id=u't5_2qh33', ups=1, year=None),\n",
       " Row(archived=True, author=u'masterofshadows', author_flair_css_class=None, body=u'There hasn\\'t been any reported plane crashes. I would assume not an Alien craft but more likely a meteorite that exploded on impact, thus making the \"tentacles\" that they saw. ', controversiality=0, created_utc=u'1231417875', day=None, distinguished=None, downs=0, edited=u'false', gilded=0, id=u'c06wioa', link_id=u't3_7o8ck', month=None, name=u't1_c06wioa', parent_id=u't3_7o8ck', retrieved_on=1425910136, score=1, score_hidden=False, subreddit=u'reddit.com', subreddit_id=u't5_6', ups=1, year=None),\n",
       " Row(archived=True, author=u'matts2', author_flair_css_class=None, body=u'And Israel seems to be working hard to just attack Hamas. ', controversiality=0, created_utc=u'1231417888', day=None, distinguished=None, downs=0, edited=u'false', gilded=0, id=u'c06wiob', link_id=u't3_7o5db', month=None, name=u't1_c06wiob', parent_id=u't1_c06wect', retrieved_on=1425910136, score=-1, score_hidden=False, subreddit=u'reddit.com', subreddit_id=u't5_6', ups=-1, year=None)]"
      ]
     },
     "execution_count": 10,
     "metadata": {},
     "output_type": "execute_result"
    }
   ],
   "source": [
    "rawDF.take(5)"
   ]
  },
  {
   "cell_type": "code",
   "execution_count": 11,
   "metadata": {
    "collapsed": false,
    "scrolled": false
   },
   "outputs": [
    {
     "name": "stdout",
     "output_type": "stream",
     "text": [
      "Sample size: 1806276\n"
     ]
    }
   ],
   "source": [
    "# Select columns that are needed for the training and testing\n",
    "# Cast columns to the correct datatype for Transformers\n",
    "# Only use comments that have been upvoted or downvoted\n",
    "def cast_col(df, col, cast_type):\n",
    "    '''\n",
    "    Function to cast column into datatype for Transformers. \n",
    "    The format may seem very un-pythonic but because Spark is written in Scala, \n",
    "    the columns are immutable and so we need to create a new temporary column (temp_col)\n",
    "    '''\n",
    "    return df.withColumn(\"temp_col\", df[col].cast(cast_type))\\\n",
    "             .drop(col)\\\n",
    "             .withColumnRenamed(\"temp_col\", col)\n",
    "\n",
    "# filter out comments with no score, comments that are deleted, and only use the reddit.com subreddit comments\n",
    "filteredDF = rawDF.select(\"id\", \"body\", \"score\", \"score_hidden\", \"subreddit\")\\\n",
    "                  .filter(rawDF.body != \"[deleted]\")\\\n",
    "                  .filter(rawDF.score_hidden == False)\\\n",
    "                  .filter(rawDF.subreddit == \"reddit.com\")\n",
    "castedDF = cast_col(filteredDF, \"score\", DoubleType())\n",
    "\n",
    "print \"Sample size: {}\".format(castedDF.count())\n",
    "\n",
    "castedDF.registerTempTable(\"rc\")\n",
    "query = sqlContext.sql(\"\"\"\n",
    "    SELECT score, COUNT(*) as cnt FROM rc\n",
    "    GROUP BY score\n",
    "    ORDER BY cnt DESC\n",
    "    \"\"\")\n",
    "result = query.toPandas()\n"
   ]
  },
  {
   "cell_type": "code",
   "execution_count": 12,
   "metadata": {
    "collapsed": false
   },
   "outputs": [
    {
     "data": {
      "text/html": [
       "<div style=\"max-height:1000px;max-width:1500px;overflow:auto;\">\n",
       "<table border=\"1\" class=\"dataframe\">\n",
       "  <thead>\n",
       "    <tr style=\"text-align: right;\">\n",
       "      <th></th>\n",
       "      <th>score</th>\n",
       "      <th>cnt</th>\n",
       "    </tr>\n",
       "  </thead>\n",
       "  <tbody>\n",
       "    <tr>\n",
       "      <th>0</th>\n",
       "      <td> 1</td>\n",
       "      <td> 778106</td>\n",
       "    </tr>\n",
       "    <tr>\n",
       "      <th>1</th>\n",
       "      <td> 2</td>\n",
       "      <td> 272886</td>\n",
       "    </tr>\n",
       "    <tr>\n",
       "      <th>2</th>\n",
       "      <td> 0</td>\n",
       "      <td> 171550</td>\n",
       "    </tr>\n",
       "    <tr>\n",
       "      <th>3</th>\n",
       "      <td> 3</td>\n",
       "      <td> 135145</td>\n",
       "    </tr>\n",
       "    <tr>\n",
       "      <th>4</th>\n",
       "      <td> 4</td>\n",
       "      <td>  57187</td>\n",
       "    </tr>\n",
       "  </tbody>\n",
       "</table>\n",
       "<p>5 rows × 2 columns</p>\n",
       "</div>"
      ],
      "text/plain": [
       "   score     cnt\n",
       "0      1  778106\n",
       "1      2  272886\n",
       "2      0  171550\n",
       "3      3  135145\n",
       "4      4   57187\n",
       "\n",
       "[5 rows x 2 columns]"
      ]
     },
     "execution_count": 12,
     "metadata": {},
     "output_type": "execute_result"
    }
   ],
   "source": [
    "result.head()"
   ]
  },
  {
   "cell_type": "markdown",
   "metadata": {},
   "source": [
    "Let's plot the distribution of comment scores to see what the data looks like:"
   ]
  },
  {
   "cell_type": "code",
   "execution_count": 9,
   "metadata": {
    "collapsed": false
   },
   "outputs": [
    {
     "data": {
      "text/plain": [
       "(0, 800000)"
      ]
     },
     "execution_count": 9,
     "metadata": {},
     "output_type": "execute_result"
    },
    {
     "data": {
      "image/png": "[encoded data removed]",
      "text/plain": [
       "<matplotlib.figure.Figure at 0x7f3a2a45ce50>"
      ]
     },
     "metadata": {},
     "output_type": "display_data"
    }
   ],
   "source": [
    "result.plot(x=\"score\", y=\"cnt\", kind=\"scatter\")\n",
    "plt.xlim([-20,20])\n",
    "plt.ylim([0, 800000])"
   ]
  },
  {
   "cell_type": "markdown",
   "metadata": {},
   "source": [
    "Most comments have a score of 1, and the number of comments drops very rapidly on either side of this."
   ]
  },
  {
   "cell_type": "markdown",
   "metadata": {},
   "source": [
    "## Creating a labeled dataset\n",
    "Now that we have cleaned the data, let's create labels for our positive comments and negative comments. \n",
    "\n",
    "Since the majority of comments have a score of 0-3, in this example we are going to assume that a comment needs a score < 0 to be a negative comment and > 10 to be a positive comment (10% of the data falls into this classification scheme). \n",
    "\n",
    "You probably noticed that conveniently the number of positive comments and the number of negative comments are about equal. A balanced labeled dataset will help simplify training and validating our model.\n"
   ]
  },
  {
   "cell_type": "code",
   "execution_count": 13,
   "metadata": {
    "collapsed": false
   },
   "outputs": [
    {
     "name": "stdout",
     "output_type": "stream",
     "text": [
      "111414 114957 1806276\n"
     ]
    }
   ],
   "source": [
    "negativeDF = castedDF.filter(castedDF[\"score\"] < 0)\n",
    "positiveDF = castedDF.filter(castedDF[\"score\"] > 10)\n",
    "\n",
    "print negativeDF.count(), positiveDF.count(), castedDF.count()"
   ]
  },
  {
   "cell_type": "markdown",
   "metadata": {},
   "source": [
    "## Split into training and testing data\n",
    "Now let's combine the positive comments and negative comments, and randomly split them into training and testing datasets (80% in the training set, 20% in the testing set). \n",
    "\n",
    "We'll put the testing dataset aside for now and use the training dataset to train our model. Once the model is trained, we can use the testing dataset to validate the model.\n",
    "\n"
   ]
  },
  {
   "cell_type": "code",
   "execution_count": 14,
   "metadata": {
    "collapsed": false
   },
   "outputs": [
    {
     "name": "stdout",
     "output_type": "stream",
     "text": [
      "training size: 180883\n",
      "negative sentiment: 89020\n",
      "positive sentiment: 91863\n",
      "testing size: 45488\n"
     ]
    }
   ],
   "source": [
    "# Split dataset into training and testing\n",
    "mergedDF = negativeDF.unionAll(positiveDF)\n",
    "splitDF = mergedDF.randomSplit([0.8, 0.2])\n",
    "trainingDF = splitDF[0]\n",
    "testingDF = splitDF[1]\n",
    "\n",
    "\n",
    "print \"training size: {}\".format(trainingDF.count())\n",
    "print \"negative sentiment: {}\".format(trainingDF.filter(trainingDF.score<0).count())\n",
    "print \"positive sentiment: {}\".format(trainingDF.filter(trainingDF.score>0).count())\n",
    "print \"testing size: {}\".format(testingDF.count())\n"
   ]
  },
  {
   "cell_type": "markdown",
   "metadata": {},
   "source": [
    "## Training a model\n",
    "As features for our model we are going to use the frequency of each word in a comment.\n",
    "\n",
    "We build an ML pipeline by chaining together the binarizer, tokenizer, hashingTF and logisticregression. Then we  fit the model to the training dataset and make predictions on the testing dataset.\n"
   ]
  },
  {
   "cell_type": "code",
   "execution_count": 40,
   "metadata": {
    "collapsed": false
   },
   "outputs": [],
   "source": [
    "#binarize -- create a column called 'label' that has converted the score into a column \n",
    "#that contains a 0 or 1, depending on the threshold variable\n",
    "binarizer = Binarizer(threshold=0.0, inputCol=\"score\", outputCol=\"label\")\n",
    "#tokenize the text into individual words\n",
    "tokenizer = Tokenizer(inputCol=\"body\", outputCol=\"words\")\n",
    "#hasgingTF - calculate the term frequency and send the resulting values to a column called 'features'\n",
    "\n",
    "hashingTF = HashingTF(inputCol=tokenizer.getOutputCol(), outputCol=\"features\")\n",
    "# hashingTF = HashingTF(inputCol='words', outputCol=\"features\")\n",
    "# ^^ had to do this\n",
    "\n",
    "#now create a logistic regression\n",
    "#maxIter is the maximum number of iterations completed when running the fit\n",
    "#regParam is the regularization strength\n",
    "lr = LogisticRegression(maxIter=10, regParam=0.01)\n",
    "\n",
    "#put it all into a pipeline estimator, fit on the training data, and test on the testing data!\n",
    "pipeline = Pipeline(stages=[binarizer, tokenizer, hashingTF, lr])\n",
    "model = pipeline.fit(trainingDF)\n",
    "prediction = model.transform(testingDF)"
   ]
  },
  {
   "cell_type": "code",
   "execution_count": 60,
   "metadata": {
    "collapsed": false
   },
   "outputs": [
    {
     "data": {
      "text/plain": [
       "[Row(id=u'achx', body=u'teh internet hate machine? ', score_hidden=False, subreddit=u'reddit.com', score=-1.0),\n",
       " Row(id=u'acmp', body=u'FUCK THAT', score_hidden=False, subreddit=u'reddit.com', score=-5.0)]"
      ]
     },
     "execution_count": 60,
     "metadata": {},
     "output_type": "execute_result"
    }
   ],
   "source": [
    "trainingDF.take(2)"
   ]
  },
  {
   "cell_type": "markdown",
   "metadata": {},
   "source": [
    "**`binarizer`**"
   ]
  },
  {
   "cell_type": "code",
   "execution_count": 56,
   "metadata": {
    "collapsed": false
   },
   "outputs": [
    {
     "name": "stdout",
     "output_type": "stream",
     "text": [
      "label\n"
     ]
    },
    {
     "data": {
      "text/plain": [
       "[Row(label=0.0), Row(label=0.0)]"
      ]
     },
     "execution_count": 56,
     "metadata": {},
     "output_type": "execute_result"
    }
   ],
   "source": [
    "df1 = binarizer.transform(trainingDF)\n",
    "\n",
    "col = binarizer.getOutputCol()\n",
    "print col\n",
    "df1.select(col).take(2)"
   ]
  },
  {
   "cell_type": "markdown",
   "metadata": {},
   "source": [
    "**`tokenizer`** adds a new column, words to the df"
   ]
  },
  {
   "cell_type": "code",
   "execution_count": 3,
   "metadata": {
    "collapsed": false
   },
   "outputs": [
    {
     "ename": "NameError",
     "evalue": "name 'tokenizer' is not defined",
     "output_type": "error",
     "traceback": [
      "\u001b[1;31m---------------------------------------------------------------------------\u001b[0m",
      "\u001b[1;31mNameError\u001b[0m                                 Traceback (most recent call last)",
      "\u001b[1;32m<ipython-input-3-f6f1ee8d134f>\u001b[0m in \u001b[0;36m<module>\u001b[1;34m()\u001b[0m\n\u001b[1;32m----> 1\u001b[1;33m \u001b[0mdf2\u001b[0m \u001b[1;33m=\u001b[0m \u001b[0mtokenizer\u001b[0m\u001b[1;33m.\u001b[0m\u001b[0mtransform\u001b[0m\u001b[1;33m(\u001b[0m\u001b[0mdf1\u001b[0m\u001b[1;33m)\u001b[0m\u001b[1;33m\u001b[0m\u001b[0m\n\u001b[0m\u001b[0;32m      2\u001b[0m \u001b[1;33m\u001b[0m\u001b[0m\n\u001b[0;32m      3\u001b[0m \u001b[1;32mprint\u001b[0m \u001b[0mdf2\u001b[0m\u001b[1;33m.\u001b[0m\u001b[0mselect\u001b[0m\u001b[1;33m(\u001b[0m\u001b[0mtokenizer\u001b[0m\u001b[1;33m.\u001b[0m\u001b[0mgetOutputCol\u001b[0m\u001b[1;33m(\u001b[0m\u001b[1;33m)\u001b[0m\u001b[1;33m)\u001b[0m\u001b[1;33m.\u001b[0m\u001b[0mtake\u001b[0m\u001b[1;33m(\u001b[0m\u001b[1;36m2\u001b[0m\u001b[1;33m)\u001b[0m\u001b[1;33m\u001b[0m\u001b[0m\n",
      "\u001b[1;31mNameError\u001b[0m: name 'tokenizer' is not defined"
     ]
    }
   ],
   "source": [
    "df2 = tokenizer.transform(df1)\n",
    "\n",
    "print df2.select(tokenizer.getOutputCol()).take(2)"
   ]
  },
  {
   "cell_type": "code",
   "execution_count": 2,
   "metadata": {
    "collapsed": false
   },
   "outputs": [
    {
     "data": {
      "text/plain": [
       "11"
      ]
     },
     "execution_count": 2,
     "metadata": {},
     "output_type": "execute_result"
    }
   ],
   "source": [
    "len([u'and', u'israel', u'seems', u'to', u'be', u'working', u'hard', u'to', u'just', u'attack', u'hamas.'])"
   ]
  },
  {
   "cell_type": "markdown",
   "metadata": {},
   "source": [
    "> each element is a list of the words in the body"
   ]
  },
  {
   "cell_type": "markdown",
   "metadata": {},
   "source": [
    "**`hashingTF`**"
   ]
  },
  {
   "cell_type": "code",
   "execution_count": 59,
   "metadata": {
    "collapsed": false,
    "scrolled": true
   },
   "outputs": [
    {
     "name": "stdout",
     "output_type": "stream",
     "text": [
      "[Row(features=SparseVector(262144, {49450: 1.0, 114711: 1.0, 214232: 1.0, 247617: 1.0})), Row(features=SparseVector(262144, {8567: 1.0, 150951: 1.0}))]\n"
     ]
    }
   ],
   "source": [
    "df3 = hashingTF.transform(df2)\n",
    "\n",
    "print df3.select(hashingTF.getOutputCol()).take(2)"
   ]
  },
  {
   "cell_type": "markdown",
   "metadata": {},
   "source": [
    "> 262144 is "
   ]
  },
  {
   "cell_type": "markdown",
   "metadata": {},
   "source": [
    "**`LogisticRegression`**  \n",
    "Note, it expects 2 columns called `labels` and `features`"
   ]
  },
  {
   "cell_type": "code",
   "execution_count": 61,
   "metadata": {
    "collapsed": false
   },
   "outputs": [
    {
     "data": {
      "text/plain": [
       "LogisticRegression_4e7db96be3cc2b7e5132"
      ]
     },
     "execution_count": 61,
     "metadata": {},
     "output_type": "execute_result"
    }
   ],
   "source": [
    "_model = lr.fit(df3)\n",
    "_model"
   ]
  },
  {
   "cell_type": "code",
   "execution_count": 64,
   "metadata": {
    "collapsed": false
   },
   "outputs": [
    {
     "data": {
      "text/plain": [
       "262144"
      ]
     },
     "execution_count": 64,
     "metadata": {},
     "output_type": "execute_result"
    }
   ],
   "source": [
    "len(_model.weights)"
   ]
  },
  {
   "cell_type": "code",
   "execution_count": 62,
   "metadata": {
    "collapsed": false
   },
   "outputs": [
    {
     "data": {
      "text/plain": [
       "DataFrame[id: string, body: string, score_hidden: boolean, subreddit: string, score: double, label: double, words: array<string>, features: vector, rawPrediction: vector, probability: vector, prediction: double]"
      ]
     },
     "execution_count": 62,
     "metadata": {},
     "output_type": "execute_result"
    }
   ],
   "source": [
    "_prediction = model.transform(testingDF)\n",
    "_prediction"
   ]
  },
  {
   "cell_type": "markdown",
   "metadata": {},
   "source": [
    "## Model validation\n",
    "### Let's check how well we did:"
   ]
  },
  {
   "cell_type": "code",
   "execution_count": 67,
   "metadata": {
    "collapsed": false
   },
   "outputs": [
    {
     "name": "stdout",
     "output_type": "stream",
     "text": [
      "The area under the RoC curve for the training set is 0.974188576956 and for the test set is na\n"
     ]
    }
   ],
   "source": [
    "evaluator = BinaryClassificationEvaluator() # the default metric is the area under the RoC curve\n",
    "train_RoC = evaluator.evaluate(_model.transform(df3))\n",
    "# test_RoC = evaluator.evaluate(_model.transform(testingDF))\n",
    "\n",
    "print \"The area under the RoC curve for the training set is {} and for the test set is {}\".format(train_RoC, 'na')"
   ]
  },
  {
   "cell_type": "code",
   "execution_count": 68,
   "metadata": {
    "collapsed": false
   },
   "outputs": [
    {
     "name": "stdout",
     "output_type": "stream",
     "text": [
      "The area under the RoC curve for the training set is 0.974188576956 and for the test set is 0.609057192501\n"
     ]
    }
   ],
   "source": [
    "evaluator = BinaryClassificationEvaluator() # the default metric is the area under the RoC curve\n",
    "train_RoC = evaluator.evaluate(model.transform(trainingDF))\n",
    "test_RoC = evaluator.evaluate(model.transform(testingDF))\n",
    "\n",
    "print \"The area under the RoC curve for the training set is {} and for the test set is {}\".format(train_RoC, test_RoC)"
   ]
  },
  {
   "cell_type": "markdown",
   "metadata": {},
   "source": [
    "### Let's also explore the errors"
   ]
  },
  {
   "cell_type": "code",
   "execution_count": 17,
   "metadata": {
    "collapsed": false,
    "scrolled": true
   },
   "outputs": [
    {
     "name": "stdout",
     "output_type": "stream",
     "text": [
      "  error_type    cnt    tot      perc\n",
      "0   true_pos  13662  45488  0.300343\n",
      "1  false_neg   9432  45488  0.207351\n",
      "2   true_neg  12863  45488  0.282778\n",
      "3  false_pos   9531  45488  0.209528\n",
      "\n",
      "[4 rows x 4 columns]\n",
      "percentage of comments with positive score in full set: 0.51\n"
     ]
    }
   ],
   "source": [
    "selected = prediction.select(\"id\", \"body\", \"prediction\", \"label\")\n",
    "positive_score_rate = binarizer.transform(mergedDF).map(lambda r: r.label).mean()\n",
    "\n",
    "def typeI_II(row):\n",
    "    if row.prediction == 0 and row.label == 0:\n",
    "        return Row(error_type=\"true_neg\", cnt=1)\n",
    "    elif row.prediction == 0 and row.label == 1:\n",
    "        return Row(error_type=\"false_neg\", cnt=1)\n",
    "    elif row.prediction == 1 and row.label == 0:\n",
    "        return Row(error_type=\"false_pos\", cnt=1)\n",
    "    else:\n",
    "        return Row(error_type=\"true_pos\", cnt=1)\n",
    "\n",
    "typeI_II_DF = selected.map(lambda r: typeI_II(r)).toDF()\n",
    "type_error_pd = typeI_II_DF.groupBy(\"error_type\")\\\n",
    "                           .sum(\"cnt\")\\\n",
    "                           .withColumnRenamed(\"SUM(cnt)\", \"cnt\").toPandas()\n",
    "\n",
    "type_error_pd[\"tot\"] = type_error_pd[\"cnt\"].sum(axis=0)\n",
    "type_error_pd[\"perc\"] = type_error_pd[\"cnt\"]/type_error_pd[\"tot\"]\n",
    "print type_error_pd\n",
    "print \"percentage of comments with positive score in full set: {0:.2f}\".format(positive_score_rate)\n",
    "\n"
   ]
  },
  {
   "cell_type": "markdown",
   "metadata": {},
   "source": [
    "## Task 1: Based on the training and test area under RoC, we've really overfit! Consider why. Which other models or analysis steps do we need?\n",
    "Check into the elasticNetParam option to determine what type of regularlization we have used in our default model. \n",
    "Additionally, one could consider trying a Naive Bayes model, or using the pyspark.ml.feature.IDF transformer, or removing stopwords."
   ]
  },
  {
   "cell_type": "markdown",
   "metadata": {},
   "source": [
    "### We could also tune the hyperparameters using cross-validation:\n",
    "(this takes a while)"
   ]
  },
  {
   "cell_type": "code",
   "execution_count": 69,
   "metadata": {
    "collapsed": false
   },
   "outputs": [
    {
     "name": "stdout",
     "output_type": "stream",
     "text": [
      "optimized over a grid of 8 parameter combinations\n"
     ]
    }
   ],
   "source": [
    "#Create a grid of hyperparameters - careful, this could take a very long time to run with many points in the grid!\n",
    "lr_grid = LogisticRegression()\n",
    "pipeline = Pipeline(stages=[binarizer, tokenizer, hashingTF, lr_grid])\n",
    "\n",
    "grid = ParamGridBuilder()\\\n",
    "        .baseOn({lr_grid.labelCol: 'label'})\\\n",
    "        .addGrid(lr_grid.regParam, [0.01, 0.1])\\\n",
    "        .addGrid(lr_grid.elasticNetParam, [0.5,0.75])\\\n",
    "        .addGrid(lr_grid.maxIter, [1, 2])\\\n",
    "        .build()\n",
    "    \n",
    "print 'optimized over a grid of {} parameter combinations'.format(len(grid))\n",
    "evaluator = BinaryClassificationEvaluator() # the default is the area under the RoC curve\n",
    "cv = CrossValidator(estimator=pipeline, estimatorParamMaps=grid, evaluator=evaluator, numFolds=4)\n",
    "cvModel = cv.fit(trainingDF)\n"
   ]
  },
  {
   "cell_type": "code",
   "execution_count": 70,
   "metadata": {
    "collapsed": false
   },
   "outputs": [
    {
     "name": "stdout",
     "output_type": "stream",
     "text": [
      "0.635134903875\n",
      "0.628536118648\n"
     ]
    }
   ],
   "source": [
    "print evaluator.evaluate(cvModel.transform(trainingDF))\n",
    "print evaluator.evaluate(cvModel.transform(testingDF))"
   ]
  },
  {
   "cell_type": "markdown",
   "metadata": {},
   "source": [
    "#### We've reduced the overfitting and also have a simple model that performs a bit better than random"
   ]
  }
 ],
 "metadata": {
  "kernelspec": {
   "display_name": "Python 2",
   "language": "python",
   "name": "python2"
  },
  "language_info": {
   "codemirror_mode": {
    "name": "ipython",
    "version": 2
   },
   "file_extension": ".py",
   "mimetype": "text/x-python",
   "name": "python",
   "nbconvert_exporter": "python",
   "pygments_lexer": "ipython2",
   "version": "2.7.6"
  }
 },
 "nbformat": 4,
 "nbformat_minor": 0
}
