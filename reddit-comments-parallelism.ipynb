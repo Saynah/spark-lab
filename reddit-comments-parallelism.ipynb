{
 "cells": [
  {
   "cell_type": "code",
   "execution_count": 1,
   "metadata": {
    "collapsed": false
   },
   "outputs": [
    {
     "name": "stdout",
     "output_type": "stream",
     "text": [
      "Populating the interactive namespace from numpy and matplotlib\n"
     ]
    }
   ],
   "source": [
    "%pylab inline\n",
    "from pyspark.sql.types import *\n",
    "from datetime import datetime\n",
    "from pyspark.sql import Row\n",
    "from time import time"
   ]
  },
  {
   "cell_type": "code",
   "execution_count": 2,
   "metadata": {
    "collapsed": false
   },
   "outputs": [
    {
     "data": {
      "text/plain": [
       "7242871"
      ]
     },
     "execution_count": 2,
     "metadata": {},
     "output_type": "execute_result"
    }
   ],
   "source": [
    "fields = [StructField(\"archived\", BooleanType(), True),\n",
    "        StructField(\"author\", StringType(), True),\n",
    "        StructField(\"author_flair_css_class\", StringType(), True),\n",
    "        StructField(\"body\", StringType(), True),\n",
    "        StructField(\"controversiality\", LongType(), True),\n",
    "        StructField(\"created_utc\", StringType(), True),\n",
    "        StructField(\"day\", LongType(), True),\n",
    "        StructField(\"distinguished\", StringType(), True),\n",
    "        StructField(\"downs\", LongType(), True),\n",
    "        StructField(\"edited\", StringType(), True),\n",
    "        StructField(\"gilded\", LongType(), True),\n",
    "        StructField(\"id\", StringType(), True),\n",
    "        StructField(\"link_id\", StringType(), True),\n",
    "        StructField(\"month\", LongType(), True),\n",
    "        StructField(\"name\", StringType(), True),\n",
    "        StructField(\"parent_id\", StringType(), True),\n",
    "        StructField(\"retrieved_on\", LongType(), True),\n",
    "        StructField(\"score\", LongType(), True),\n",
    "        StructField(\"score_hidden\", BooleanType(), True),\n",
    "        StructField(\"subreddit\", StringType(), True),\n",
    "        StructField(\"subreddit_id\", StringType(), True),\n",
    "        StructField(\"ups\", LongType(), True),\n",
    "        StructField(\"year\", LongType(), True)]\n",
    "rawDF = sqlContext.read.json(\"s3n://reddit-comments/2008\", StructType(fields))\n",
    "rawDF.persist(StorageLevel.MEMORY_AND_DISK_SER)\n",
    "rawDF.count()"
   ]
  },
  {
   "cell_type": "code",
   "execution_count": 3,
   "metadata": {
    "collapsed": false
   },
   "outputs": [],
   "source": [
    "# Setting up DataFrames to have various number of partitions ranging from 1 to 32\n",
    "# All will be persisted in memory and the same job will be run on each one to show performance benefits\n",
    "repart_1_df = rawDF.repartition(1).persist(StorageLevel.MEMORY_AND_DISK_SER)\n",
    "repart_2_df = rawDF.repartition(2).persist(StorageLevel.MEMORY_AND_DISK_SER)\n",
    "repart_4_df = rawDF.repartition(4).persist(StorageLevel.MEMORY_AND_DISK_SER)\n",
    "repart_8_df = rawDF.repartition(8).persist(StorageLevel.MEMORY_AND_DISK_SER)\n",
    "repart_16_df = rawDF.repartition(16).persist(StorageLevel.MEMORY_AND_DISK_SER)\n",
    "repart_32_df = rawDF.repartition(32).persist(StorageLevel.MEMORY_AND_DISK_SER)\n",
    "\n",
    "repart_1_df.registerTempTable(\"repart_1\")\n",
    "repart_2_df.registerTempTable(\"repart_2\")\n",
    "repart_4_df.registerTempTable(\"repart_4\")\n",
    "repart_8_df.registerTempTable(\"repart_8\")\n",
    "repart_16_df.registerTempTable(\"repart_16\")\n",
    "repart_32_df.registerTempTable(\"repart_32\")"
   ]
  },
  {
   "cell_type": "code",
   "execution_count": 4,
   "metadata": {
    "collapsed": false
   },
   "outputs": [
    {
     "name": "stdout",
     "output_type": "stream",
     "text": [
      "1 partitions took 199.992575884 seconds to repartition and count\n",
      "2 partitions took 103.900455952 seconds to repartition and count\n",
      "4 partitions took 57.8256669044 seconds to repartition and count\n",
      "8 partitions took 45.2975502014 seconds to repartition and count\n",
      "16 partitions took 31.8315329552 seconds to repartition and count\n",
      "32 partitions took 33.4327778816 seconds to repartition and count\n"
     ]
    }
   ],
   "source": [
    "# Run through each DataFrame and count the number of elements in each. This will \n",
    "# trigger the DataFrames to persist into Memory and Disk\n",
    "df_arr = [(repart_1_df, 1), \n",
    "          (repart_2_df, 2), \n",
    "          (repart_4_df, 4), \n",
    "          (repart_8_df, 8), \n",
    "          (repart_16_df, 16), \n",
    "          (repart_32_df, 32)]\n",
    "for df in df_arr:\n",
    "    start_time = time()\n",
    "    df[0].count()\n",
    "    end_time = time()\n",
    "    print \"{} partitions took {} seconds to repartition and count\".format(df[1], end_time - start_time) "
   ]
  },
  {
   "cell_type": "code",
   "execution_count": 11,
   "metadata": {
    "collapsed": false
   },
   "outputs": [],
   "source": [
    "# Function sorts an array of UTC time and calculates the delta time in days between each consecutive UTC time\n",
    "# Returns a Row object containing the subreddit, the median time delta representing the median time in days \n",
    "# between comments for any subreddit, and the total number of comments in each subreddit\n",
    "def calc_median(row):\n",
    "    subreddit = row[0]\n",
    "    val_arr = row[1]\n",
    "    sorted_arr = sorted(val_arr)\n",
    "    dt = []\n",
    "    if len(sorted_arr)>0:\n",
    "        for i in range(len(sorted_arr)-1):\n",
    "            dt.append(int(sorted_arr[i+1])-int(sorted_arr[i]))\n",
    "    else:\n",
    "        dt = [0]\n",
    "        \n",
    "    return Row(subreddit=subreddit, median_time_days=float(median(dt)/60/60/24), num_comments=len(sorted_arr))"
   ]
  },
  {
   "cell_type": "code",
   "execution_count": null,
   "metadata": {
    "collapsed": false
   },
   "outputs": [
    {
     "name": "stdout",
     "output_type": "stream",
     "text": [
      "1 partitions took 201.440960884 seconds to process, 2695 records\n",
      "2 partitions took 109.790168047 seconds to process, 2695 records"
     ]
    }
   ],
   "source": [
    "# Loop through each DataFrame and run the same job to calculate the median time between comments for each\n",
    "# subreddit\n",
    "for df in df_arr:\n",
    "    start_time = time()\n",
    "    curr_df = df[0]\n",
    "    num_partitions = df[1]\n",
    "    \n",
    "    subreddit_comment_times = curr_df.rdd.map(lambda r: (r.subreddit, r.created_utc))\n",
    "    median_time_between_posts_df = subreddit_comment_times.groupByKey()\\\n",
    "                                                          .map(calc_median)\\\n",
    "                                                          .toDF()\n",
    "    total_cnt = median_time_between_posts_df.count()\n",
    "    end_time = time()\n",
    "    print \"{} partitions took {} seconds to process, {} final records\".format(df[1], end_time - start_time, total_cnt) "
   ]
  },
  {
   "cell_type": "code",
   "execution_count": 7,
   "metadata": {
    "collapsed": false
   },
   "outputs": [
    {
     "data": {
      "text/plain": [
       "<matplotlib.axes.AxesSubplot at 0x7f208c64d650>"
      ]
     },
     "execution_count": 7,
     "metadata": {},
     "output_type": "execute_result"
    },
    {
     "data": {
      "image/png": "[encoded data removed]",
      "text/plain": [
       "<matplotlib.figure.Figure at 0x7f20ac4e7150>"
      ]
     },
     "metadata": {},
     "output_type": "display_data"
    }
   ],
   "source": [
    "# A scatter plot where each element is a subreddit. We can see that subreddits with more than 40 comments tend to\n",
    "# also have more frequent comment activity throughout the year\n",
    "median_time_between_posts_pd = median_time_between_posts_df.toPandas()\n",
    "median_time_between_posts_pd.plot(kind='scatter', x='num_comments', y='median_time_days', xlim=(-5, 100), ylim=(-5, 60))"
   ]
  },
  {
   "cell_type": "code",
   "execution_count": null,
   "metadata": {
    "collapsed": true
   },
   "outputs": [],
   "source": []
  }
 ],
 "metadata": {
  "kernelspec": {
   "display_name": "Python 2",
   "language": "python",
   "name": "python2"
  },
  "language_info": {
   "codemirror_mode": {
    "name": "ipython",
    "version": 2
   },
   "file_extension": ".py",
   "mimetype": "text/x-python",
   "name": "python",
   "nbconvert_exporter": "python",
   "pygments_lexer": "ipython2",
   "version": "2.7.6"
  }
 },
 "nbformat": 4,
 "nbformat_minor": 0
}
