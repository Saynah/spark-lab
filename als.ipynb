{
 "cells": [
  {
   "cell_type": "code",
   "execution_count": 74,
   "metadata": {
    "collapsed": false
   },
   "outputs": [],
   "source": [
    "from pyspark.mllib.recommendation import ALS\n",
    "from pyspark.mllib.recommendation import Rating"
   ]
  },
  {
   "cell_type": "code",
   "execution_count": 75,
   "metadata": {
    "collapsed": true
   },
   "outputs": [],
   "source": [
    "CORES_PER_NODE = 2\n",
    "NUM_WORKERS = 3\n",
    "REP_FACTOR = 4"
   ]
  },
  {
   "cell_type": "code",
   "execution_count": 76,
   "metadata": {
    "collapsed": false
   },
   "outputs": [],
   "source": [
    "# Read in the ratings file (fromUserId, toUserId, rating).  These ratings are 0-9.\n",
    "ratings_raw_DF = sqlCtx.read.format(\"com.databricks.spark.csv\") \\\n",
    "                       .options(header=\"false\") \\\n",
    "                       .load(\"s3n://insight-spark-after-dark/ratings.csv.gz\") \\\n",
    "                       .repartition(CORES_PER_NODE*NUM_WORKERS*REP_FACTOR)"
   ]
  },
  {
   "cell_type": "code",
   "execution_count": 77,
   "metadata": {
    "collapsed": true
   },
   "outputs": [],
   "source": [
    "# Register the ratings_raw DataFrame as a temp table\n",
    "ratings_raw_DF.registerTempTable(\"ratings_tbl\")"
   ]
  },
  {
   "cell_type": "code",
   "execution_count": 78,
   "metadata": {
    "collapsed": false
   },
   "outputs": [
    {
     "data": {
      "text/plain": [
       "17359346"
      ]
     },
     "execution_count": 78,
     "metadata": {},
     "output_type": "execute_result"
    }
   ],
   "source": [
    "ratings_raw_DF.count()"
   ]
  },
  {
   "cell_type": "code",
   "execution_count": 79,
   "metadata": {
    "collapsed": false
   },
   "outputs": [
    {
     "data": {
      "text/plain": [
       "[Row(C0=u'1', C1=u'720', C2=u'6'),\n",
       " Row(C0=u'1', C1=u'13895', C2=u'5'),\n",
       " Row(C0=u'1', C1=u'22691', C2=u'1'),\n",
       " Row(C0=u'1', C1=u'37184', C2=u'9'),\n",
       " Row(C0=u'1', C1=u'49038', C2=u'9')]"
      ]
     },
     "execution_count": 79,
     "metadata": {},
     "output_type": "execute_result"
    }
   ],
   "source": [
    "ratings_raw_DF.take(5)"
   ]
  },
  {
   "cell_type": "code",
   "execution_count": 80,
   "metadata": {
    "collapsed": false
   },
   "outputs": [],
   "source": [
    "# Cast the DataFrame to enforce a schema with (from_user_id, to_user_id, rating)\n",
    "ratings_DF = sqlCtx.sql(\"\"\"\n",
    "SELECT\n",
    "    CAST(C0 as int) AS from_user_id,\n",
    "    CAST(C1 as int) AS to_user_id,\n",
    "    CAST(C2 as int) AS rating\n",
    "FROM \n",
    "    ratings_raw_tbl\n",
    "\"\"\")"
   ]
  },
  {
   "cell_type": "code",
   "execution_count": 81,
   "metadata": {
    "collapsed": false
   },
   "outputs": [
    {
     "data": {
      "text/plain": [
       "[Rating(user=1, product=12638, rating=4.0),\n",
       " Rating(user=1, product=22319, rating=10.0),\n",
       " Rating(user=1, product=35707, rating=1.0),\n",
       " Rating(user=1, product=48470, rating=8.0),\n",
       " Rating(user=1, product=58839, rating=7.0)]"
      ]
     },
     "execution_count": 81,
     "metadata": {},
     "output_type": "execute_result"
    }
   ],
   "source": [
    "# Create mllib.recommendation.Rating RDD from ratings DataFrame\n",
    "ratings_RDD = ratings_DF.rdd.map(lambda r: Rating(r.from_user_id, r.to_user_id, r.rating))\n",
    "\n",
    "ratings_RDD.take(5)"
   ]
  },
  {
   "cell_type": "code",
   "execution_count": 82,
   "metadata": {
    "collapsed": true
   },
   "outputs": [],
   "source": [
    "# Separate ratings data into training data (80%) and test data (20%)\n",
    "split_ratings_RDD = ratings_RDD.randomSplit([0.8, 0.2])\n",
    "training_ratings_RDD = split_ratings_RDD[0]\n",
    "test_ratings_RDD = split_ratings_RDD[1]"
   ]
  },
  {
   "cell_type": "code",
   "execution_count": 83,
   "metadata": {
    "collapsed": true
   },
   "outputs": [],
   "source": [
    "# Train the ALS model using the training data and various model hyperparameters\n",
    "model = ALS.train(training_ratings_RDD, 1, 5, 0.01, 10)"
   ]
  },
  {
   "cell_type": "code",
   "execution_count": 84,
   "metadata": {
    "collapsed": true
   },
   "outputs": [],
   "source": [
    "# Convert known test data to have only (from, to)\n",
    "test_from_to_RDD = test_ratings_RDD.map(lambda r: (r[0], r[1]))"
   ]
  },
  {
   "cell_type": "code",
   "execution_count": 85,
   "metadata": {
    "collapsed": false
   },
   "outputs": [
    {
     "data": {
      "text/plain": [
       "[Rating(user=61292, product=108150, rating=10.277404629792272),\n",
       " Rating(user=33408, product=108150, rating=6.406982963487508),\n",
       " Rating(user=107380, product=108150, rating=10.062431847175276),\n",
       " Rating(user=129733, product=108150, rating=-4.845537426028841),\n",
       " Rating(user=85632, product=28730, rating=10.242428392288048)]"
      ]
     },
     "execution_count": 85,
     "metadata": {},
     "output_type": "execute_result"
    }
   ],
   "source": [
    "# Test the model by predicting the ratings for the known test data\n",
    "actual_predictions_RDD = model.predictAll(test_from_to_RDD)\n",
    "\n",
    "actual_predictions_RDD.take(5)"
   ]
  },
  {
   "cell_type": "code",
   "execution_count": 86,
   "metadata": {
    "collapsed": false
   },
   "outputs": [],
   "source": [
    "# Prepare the known test predictions and actual predictions for comparison keyed by (from, to)\n",
    "actual_predictions_RDD = actual_predictions_RDD.map(lambda r: ((r[0], r[1]), r[2]))\n",
    "test_predictions_RDD = test_ratings_RDD.map(lambda r: ((r[0], r[1]), r[2]))"
   ]
  },
  {
   "cell_type": "code",
   "execution_count": 87,
   "metadata": {
    "collapsed": false
   },
   "outputs": [
    {
     "data": {
      "text/plain": [
       "[((8964, 187978), (1, 0.9634531397584283)),\n",
       " ((126106, 204378), (10, 0.041438381336472485)),\n",
       " ((125464, 192666), (1, 2.2574677964252032)),\n",
       " ((60642, 183146), (5, 4.823080857943978)),\n",
       " ((17237, 127791), (8, 8.4853084650872)),\n",
       " ((27972, 16204), (1, 3.2294395784073515)),\n",
       " ((105140, 175428), (1, 1.433956705499071)),\n",
       " ((63229, 149421), (5, 4.881046296534805)),\n",
       " ((68551, 165937), (3, 4.237967778511717)),\n",
       " ((59257, 117047), (1, 4.833109587359445))]"
      ]
     },
     "execution_count": 87,
     "metadata": {},
     "output_type": "execute_result"
    }
   ],
   "source": [
    "# Join the known test predictions with the actual predictions\n",
    "test_to_actual_ratings_RDD = test_predictions_RDD.join(actual_predictions_RDD)\n",
    "test_to_actual_ratings_RDD.take(10)"
   ]
  },
  {
   "cell_type": "code",
   "execution_count": 88,
   "metadata": {
    "collapsed": false
   },
   "outputs": [
    {
     "name": "stdout",
     "output_type": "stream",
     "text": [
      "2.12934055857\n"
     ]
    }
   ],
   "source": [
    "# Evaluate the model using Mean Absolute Error (MAE) between the known test ratings and the actual predictions \n",
    "mean_absolute_rating_error = test_to_actual_ratings_RDD.map(lambda r: abs(r[1][0] - r[1][1])).mean()\n",
    "\n",
    "print mean_absolute_rating_error"
   ]
  },
  {
   "cell_type": "code",
   "execution_count": null,
   "metadata": {
    "collapsed": true
   },
   "outputs": [],
   "source": []
  }
 ],
 "metadata": {
  "kernelspec": {
   "display_name": "Python 2",
   "language": "python",
   "name": "python2"
  },
  "language_info": {
   "codemirror_mode": {
    "name": "ipython",
    "version": 2
   },
   "file_extension": ".py",
   "mimetype": "text/x-python",
   "name": "python",
   "nbconvert_exporter": "python",
   "pygments_lexer": "ipython2",
   "version": "2.7.6"
  }
 },
 "nbformat": 4,
 "nbformat_minor": 0
}
