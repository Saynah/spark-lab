{
 "cells": [
  {
   "cell_type": "code",
   "execution_count": 1,
   "metadata": {
    "collapsed": true
   },
   "outputs": [],
   "source": [
    "from pyspark.mllib.linalg import Vectors\n",
    "from pyspark.ml.classification import LogisticRegression\n",
    "from pyspark.ml.param import Param, Params"
   ]
  },
  {
   "cell_type": "code",
   "execution_count": 3,
   "metadata": {
    "collapsed": false
   },
   "outputs": [],
   "source": [
    "training = sqlContext.createDataFrame([\n",
    "        (1.0, Vectors.dense([0.0, 1.1, 0.1])),\n",
    "        (0.0, Vectors.dense([2.0, 1.0, -1.0])),\n",
    "        (0.0, Vectors.dense([2.0, 1.3, 1.0])),\n",
    "        (1.0, Vectors.dense([0.0, 1.2, -0.5]))], [\"label\", \"features\"])"
   ]
  },
  {
   "cell_type": "code",
   "execution_count": 4,
   "metadata": {
    "collapsed": false
   },
   "outputs": [
    {
     "name": "stdout",
     "output_type": "stream",
     "text": [
      "LogisticRegression parameters:\n",
      "elasticNetParam: the ElasticNet mixing parameter, in range [0, 1]. For alpha = 0, the penalty is an L2 penalty. For alpha = 1, it is an L1 penalty. (default: 0.0)\n",
      "featuresCol: features column name (default: features)\n",
      "fitIntercept: whether to fit an intercept term. (default: True)\n",
      "labelCol: label column name (default: label)\n",
      "maxIter: max number of iterations (>= 0) (default: 100, current: 10)\n",
      "predictionCol: prediction column name (default: prediction)\n",
      "probabilityCol: Column name for predicted class conditional probabilities. Note: Not all models output well-calibrated probability estimates! These probabilities should be treated as confidences, not precise probabilities. (default: probability)\n",
      "regParam: regularization parameter (>= 0) (default: 0.1, current: 0.01)\n",
      "threshold: threshold in binary classification prediction, in range [0, 1]. (default: 0.5)\n",
      "tol: the convergence tolerance for iterative algorithms (default: 1e-06)\n",
      "\n"
     ]
    }
   ],
   "source": [
    "lr = LogisticRegression(maxIter=10, regParam=0.01)\n",
    "print \"LogisticRegression parameters:\\n\" + lr.explainParams() + \"\\n\""
   ]
  },
  {
   "cell_type": "code",
   "execution_count": 5,
   "metadata": {
    "collapsed": false
   },
   "outputs": [
    {
     "name": "stdout",
     "output_type": "stream",
     "text": [
      "Model 1 was fit using parameters: \n",
      "{Param(parent='LogisticRegression_4df7b108bfeea36a579c', name='labelCol', doc='label column name'): 'label', Param(parent='LogisticRegression_4df7b108bfeea36a579c', name='threshold', doc='threshold in binary classification prediction, in range [0, 1].'): 0.5, Param(parent='LogisticRegression_4df7b108bfeea36a579c', name='featuresCol', doc='features column name'): 'features', Param(parent='LogisticRegression_4df7b108bfeea36a579c', name='probabilityCol', doc='Column name for predicted class conditional probabilities. Note: Not all models output well-calibrated probability estimates! These probabilities should be treated as confidences, not precise probabilities.'): 'probability', Param(parent='LogisticRegression_4df7b108bfeea36a579c', name='regParam', doc='regularization parameter (>= 0)'): 0.01, Param(parent='LogisticRegression_4df7b108bfeea36a579c', name='elasticNetParam', doc='the ElasticNet mixing parameter, in range [0, 1]. For alpha = 0, the penalty is an L2 penalty. For alpha = 1, it is an L1 penalty.'): 0.0, Param(parent='LogisticRegression_4df7b108bfeea36a579c', name='fitIntercept', doc='whether to fit an intercept term.'): True, Param(parent='LogisticRegression_4df7b108bfeea36a579c', name='maxIter', doc='max number of iterations (>= 0)'): 10, Param(parent='LogisticRegression_4df7b108bfeea36a579c', name='predictionCol', doc='prediction column name'): 'prediction', Param(parent='LogisticRegression_4df7b108bfeea36a579c', name='tol', doc='the convergence tolerance for iterative algorithms'): 1e-06}\n"
     ]
    }
   ],
   "source": [
    "model1 = lr.fit(training)\n",
    "print \"Model 1 was fit using parameters: \"\n",
    "print model1.extractParamMap()"
   ]
  },
  {
   "cell_type": "code",
   "execution_count": 6,
   "metadata": {
    "collapsed": true
   },
   "outputs": [],
   "source": [
    "paramMap = {lr.maxIter: 20}\n",
    "paramMap[lr.maxIter] = 30\n",
    "paramMap.update({lr.regParam: 0.1, lr.threshold: 0.55})\n",
    "\n",
    "paramMap2 = {lr.probabilityCol: \"myProbability\"}\n",
    "paramMapCombined = paramMap.copy()\n",
    "paramMapCombined.update(paramMap2)"
   ]
  },
  {
   "cell_type": "code",
   "execution_count": 7,
   "metadata": {
    "collapsed": false
   },
   "outputs": [
    {
     "name": "stdout",
     "output_type": "stream",
     "text": [
      "Model 2 was fit using parameter: \n",
      "{Param(parent='LogisticRegression_4df7b108bfeea36a579c', name='labelCol', doc='label column name'): 'label', Param(parent='LogisticRegression_4df7b108bfeea36a579c', name='threshold', doc='threshold in binary classification prediction, in range [0, 1].'): 0.5, Param(parent='LogisticRegression_4df7b108bfeea36a579c', name='featuresCol', doc='features column name'): 'features', Param(parent='LogisticRegression_4df7b108bfeea36a579c', name='probabilityCol', doc='Column name for predicted class conditional probabilities. Note: Not all models output well-calibrated probability estimates! These probabilities should be treated as confidences, not precise probabilities.'): 'probability', Param(parent='LogisticRegression_4df7b108bfeea36a579c', name='regParam', doc='regularization parameter (>= 0)'): 0.01, Param(parent='LogisticRegression_4df7b108bfeea36a579c', name='elasticNetParam', doc='the ElasticNet mixing parameter, in range [0, 1]. For alpha = 0, the penalty is an L2 penalty. For alpha = 1, it is an L1 penalty.'): 0.0, Param(parent='LogisticRegression_4df7b108bfeea36a579c', name='fitIntercept', doc='whether to fit an intercept term.'): True, Param(parent='LogisticRegression_4df7b108bfeea36a579c', name='maxIter', doc='max number of iterations (>= 0)'): 10, Param(parent='LogisticRegression_4df7b108bfeea36a579c', name='predictionCol', doc='prediction column name'): 'prediction', Param(parent='LogisticRegression_4df7b108bfeea36a579c', name='tol', doc='the convergence tolerance for iterative algorithms'): 1e-06}\n"
     ]
    }
   ],
   "source": [
    "model2 = lr.fit(training, paramMapCombined)\n",
    "print \"Model 2 was fit using parameter: \"\n",
    "print model2.extractParamMap()"
   ]
  },
  {
   "cell_type": "code",
   "execution_count": 9,
   "metadata": {
    "collapsed": false
   },
   "outputs": [],
   "source": [
    "test = sqlContext.createDataFrame([\n",
    "        (1.0, Vectors.dense([-1.0, 1.5, 1.3])),\n",
    "        (0.0, Vectors.dense([3.0, 2.0, -0.1])),\n",
    "        (1.0, Vectors.dense([0.0, 2.2, -1.5]))], [\"label\", \"features\"])"
   ]
  },
  {
   "cell_type": "code",
   "execution_count": 10,
   "metadata": {
    "collapsed": false
   },
   "outputs": [
    {
     "name": "stdout",
     "output_type": "stream",
     "text": [
      "Row(features=DenseVector([-1.0, 1.5, 1.3]), label=1.0, myProbability=DenseVector([0.0571, 0.9429]), prediction=1.0)\n",
      "Row(features=DenseVector([3.0, 2.0, -0.1]), label=0.0, myProbability=DenseVector([0.9239, 0.0761]), prediction=0.0)\n",
      "Row(features=DenseVector([0.0, 2.2, -1.5]), label=1.0, myProbability=DenseVector([0.1097, 0.8903]), prediction=1.0)\n"
     ]
    }
   ],
   "source": [
    "prediction = model2.transform(test)\n",
    "selected = prediction.select(\"features\", \"label\", \"myProbability\", \"prediction\")\n",
    "for row in selected.collect():\n",
    "    print row"
   ]
  },
  {
   "cell_type": "code",
   "execution_count": null,
   "metadata": {
    "collapsed": true
   },
   "outputs": [],
   "source": []
  }
 ],
 "metadata": {
  "kernelspec": {
   "display_name": "Python 2",
   "language": "python",
   "name": "python2"
  },
  "language_info": {
   "codemirror_mode": {
    "name": "ipython",
    "version": 2
   },
   "file_extension": ".py",
   "mimetype": "text/x-python",
   "name": "python",
   "nbconvert_exporter": "python",
   "pygments_lexer": "ipython2",
   "version": "2.7.6"
  }
 },
 "nbformat": 4,
 "nbformat_minor": 0
}
