{
 "cells": [
  {
   "cell_type": "code",
   "execution_count": 1,
   "metadata": {
    "collapsed": false
   },
   "outputs": [
    {
     "name": "stdout",
     "output_type": "stream",
     "text": [
      "Populating the interactive namespace from numpy and matplotlib\n"
     ]
    }
   ],
   "source": [
    "%pylab inline\n",
    "from time import time"
   ]
  },
  {
   "cell_type": "code",
   "execution_count": 2,
   "metadata": {
    "collapsed": false
   },
   "outputs": [
    {
     "data": {
      "text/plain": [
       "[[u'438', u'20655'],\n",
       " [u'33468', u'437'],\n",
       " [u'33468', u'33467'],\n",
       " [u'33468', u'33469'],\n",
       " [u'33468', u'39690']]"
      ]
     },
     "execution_count": 2,
     "metadata": {},
     "output_type": "execute_result"
    }
   ],
   "source": [
    "# Read a file in from S3 containing a edges of the California road network.\n",
    "# Each row in the file is tab separated representing an edge connecting \n",
    "# two intersections e.g. id1 id2\n",
    "rdd = sc.textFile(\"s3n://roadnet/roadNet-CA.txt\")\\\n",
    "        .map(lambda r: r.split(\"\\t\"))\\\n",
    "        .repartition(18)\n",
    "rdd.take(5)"
   ]
  },
  {
   "cell_type": "code",
   "execution_count": 3,
   "metadata": {
    "collapsed": false
   },
   "outputs": [
    {
     "data": {
      "text/plain": [
       "[(u'510875', 3),\n",
       " (u'684231', 2),\n",
       " (u'378460', 4),\n",
       " (u'1527198', 3),\n",
       " (u'1231466', 4)]"
      ]
     },
     "execution_count": 3,
     "metadata": {},
     "output_type": "execute_result"
    }
   ],
   "source": [
    "# Count the number of edges leaving from each intersection representing each node's degree.\n",
    "node_degree = rdd.mapValues(lambda x: 1)\\\n",
    "                 .reduceByKey(lambda x,y: x+y)\n",
    "node_degree.take(5)"
   ]
  },
  {
   "cell_type": "code",
   "execution_count": 4,
   "metadata": {
    "collapsed": false
   },
   "outputs": [
    {
     "data": {
      "text/plain": [
       "[(1, 321027),\n",
       " (2, 204754),\n",
       " (3, 971276),\n",
       " (4, 454208),\n",
       " (5, 11847),\n",
       " (6, 1917),\n",
       " (7, 143),\n",
       " (8, 30),\n",
       " (9, 1),\n",
       " (10, 2),\n",
       " (12, 1)]"
      ]
     },
     "execution_count": 4,
     "metadata": {},
     "output_type": "execute_result"
    }
   ],
   "source": [
    "# Calculate a histogram of the degrees per node and bring the RDD to the driver node as a list of tuples\n",
    "degree_distr = node_degree.map(lambda r: (r[1], 1))\\\n",
    "                          .reduceByKey(lambda x,y: x+y)\n",
    "degree_distr_arr = degree_distr.collect()\n",
    "degree_distr_arr"
   ]
  },
  {
   "cell_type": "code",
   "execution_count": 5,
   "metadata": {
    "collapsed": false
   },
   "outputs": [],
   "source": [
    "# Assign the degree and frequency variables\n",
    "degree = [val[0] for val in degree_distr_arr]\n",
    "frequency = [val[1] for val in degree_distr_arr]"
   ]
  },
  {
   "cell_type": "code",
   "execution_count": 6,
   "metadata": {
    "collapsed": false
   },
   "outputs": [
    {
     "data": {
      "text/plain": [
       "<matplotlib.text.Text at 0x7f886afb6710>"
      ]
     },
     "execution_count": 6,
     "metadata": {},
     "output_type": "execute_result"
    },
    {
     "data": {
      "image/png": "[encoded data removed]",
      "text/plain": [
       "<matplotlib.figure.Figure at 0x7f886affc890>"
      ]
     },
     "metadata": {},
     "output_type": "display_data"
    }
   ],
   "source": [
    "# plot the histogram of the frequency of each degree per node in the network\n",
    "bar(degree, frequency, log=1)\n",
    "plt.xlabel('Degree')\n",
    "plt.ylabel('Frequency')"
   ]
  },
  {
   "cell_type": "code",
   "execution_count": null,
   "metadata": {
    "collapsed": true
   },
   "outputs": [],
   "source": []
  }
 ],
 "metadata": {
  "kernelspec": {
   "display_name": "Python 2",
   "language": "python",
   "name": "python2"
  },
  "language_info": {
   "codemirror_mode": {
    "name": "ipython",
    "version": 2
   },
   "file_extension": ".py",
   "mimetype": "text/x-python",
   "name": "python",
   "nbconvert_exporter": "python",
   "pygments_lexer": "ipython2",
   "version": "2.7.6"
  }
 },
 "nbformat": 4,
 "nbformat_minor": 0
}
