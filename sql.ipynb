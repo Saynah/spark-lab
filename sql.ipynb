{
 "cells": [
  {
   "cell_type": "code",
   "execution_count": 15,
   "metadata": {
    "collapsed": false
   },
   "outputs": [],
   "source": [
    "from pyspark.sql.types import *\n",
    "from pyspark.sql import Row"
   ]
  },
  {
   "cell_type": "code",
   "execution_count": 2,
   "metadata": {
    "collapsed": true
   },
   "outputs": [],
   "source": [
    "# Read in raw ratings data (fromUserId, toUserId, rating)\n",
    "ratingsCsvRDD = sc.textFile(\"s3n://insight-spark-after-dark/ratings.csv.gz\").repartition(16)"
   ]
  },
  {
   "cell_type": "code",
   "execution_count": 18,
   "metadata": {
    "collapsed": false
   },
   "outputs": [
    {
     "data": {
      "text/plain": [
       "[Row(fromUserId=1, rating=8, toUserId=2145),\n",
       " Row(fromUserId=1, rating=7, toUserId=11747),\n",
       " Row(fromUserId=1, rating=4, toUserId=18878),\n",
       " Row(fromUserId=1, rating=4, toUserId=23499),\n",
       " Row(fromUserId=1, rating=10, toUserId=35647)]"
      ]
     },
     "execution_count": 18,
     "metadata": {},
     "output_type": "execute_result"
    }
   ],
   "source": [
    "# Convert raw ratings RDD to Json RDD\n",
    "def rec_tup(rating):\n",
    "    tokens = rating.split(\",\")\n",
    "    return Row(fromUserId=int(tokens[0]), toUserId=int(tokens[1]), rating=int(tokens[2]))\n",
    "\n",
    "ratingsJson_DF = ratingsCsvRDD.map(rec_tup).toDF()\n",
    "ratingsJson_DF.take(5)"
   ]
  },
  {
   "cell_type": "code",
   "execution_count": 19,
   "metadata": {
    "collapsed": false
   },
   "outputs": [
    {
     "data": {
      "text/plain": [
       "DataFrame[fromUserId: bigint, rating: bigint, toUserId: bigint]"
      ]
     },
     "execution_count": 19,
     "metadata": {},
     "output_type": "execute_result"
    }
   ],
   "source": [
    "# Cache the SchemaRDD as we'll be using this heavily moving forward\n",
    "ratingsJson_DF.persist(StorageLevel.MEMORY_AND_DISK_SER)"
   ]
  },
  {
   "cell_type": "code",
   "execution_count": 20,
   "metadata": {
    "collapsed": false
   },
   "outputs": [
    {
     "name": "stdout",
     "output_type": "stream",
     "text": [
      "root\n",
      " |-- fromUserId: long (nullable = true)\n",
      " |-- rating: long (nullable = true)\n",
      " |-- toUserId: long (nullable = true)\n",
      "\n"
     ]
    }
   ],
   "source": [
    "# Describe the SchemaRDD inferred from the JSON\n",
    "ratingsJson_DF.printSchema()\n",
    "\n",
    "ratingsJson_DF.registerTempTable(\"ratingsJsonTable\")"
   ]
  },
  {
   "cell_type": "code",
   "execution_count": 21,
   "metadata": {
    "collapsed": false
   },
   "outputs": [
    {
     "data": {
      "text/plain": [
       "DataFrame[col_name: string, data_type: string, comment: string]"
      ]
     },
     "execution_count": 21,
     "metadata": {},
     "output_type": "execute_result"
    }
   ],
   "source": [
    "sqlContext.sql(\"DESCRIBE ratingsJsonTable\")"
   ]
  },
  {
   "cell_type": "code",
   "execution_count": 22,
   "metadata": {
    "collapsed": false
   },
   "outputs": [],
   "source": [
    "# Show the top 10 most-active users\n",
    "mostActiveUsersSchemaRDD = sqlContext.sql(\"\"\"\n",
    "    SELECT * \n",
    "    FROM ratingsJsonTable \n",
    "    \"\"\")"
   ]
  },
  {
   "cell_type": "code",
   "execution_count": null,
   "metadata": {
    "collapsed": false
   },
   "outputs": [],
   "source": [
    "mostActiveUsersSchemaRDD.collect()"
   ]
  },
  {
   "cell_type": "code",
   "execution_count": null,
   "metadata": {
    "collapsed": false
   },
   "outputs": [],
   "source": [
    "ratingsJsonSchema_df.sample(False, 0.1, 20).collect()"
   ]
  },
  {
   "cell_type": "code",
   "execution_count": null,
   "metadata": {
    "collapsed": true
   },
   "outputs": [],
   "source": []
  }
 ],
 "metadata": {
  "kernelspec": {
   "display_name": "Python 2",
   "language": "python",
   "name": "python2"
  },
  "language_info": {
   "codemirror_mode": {
    "name": "ipython",
    "version": 2
   },
   "file_extension": ".py",
   "mimetype": "text/x-python",
   "name": "python",
   "nbconvert_exporter": "python",
   "pygments_lexer": "ipython2",
   "version": "2.7.6"
  }
 },
 "nbformat": 4,
 "nbformat_minor": 0
}
